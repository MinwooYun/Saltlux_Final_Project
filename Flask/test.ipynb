{
 "cells": [
  {
   "cell_type": "code",
   "execution_count": 1,
   "metadata": {},
   "outputs": [],
   "source": [
    "import pandas as pd\n",
    "\n",
    "df = pd.read_csv(\"2021_1.csv\")"
   ]
  },
  {
   "cell_type": "code",
   "execution_count": 2,
   "metadata": {},
   "outputs": [
    {
     "data": {
      "text/plain": [
       "국제        85723\n",
       "사회        85058\n",
       "스포츠       73916\n",
       "연예        57112\n",
       "정치        29491\n",
       "경제        29148\n",
       "일반        19171\n",
       "문화        12357\n",
       "IT         5585\n",
       "사설칼럼       3268\n",
       "속보         1785\n",
       "자동생성기사     1292\n",
       "보도자료       1090\n",
       "Null          4\n",
       "Name: category, dtype: int64"
      ]
     },
     "execution_count": 2,
     "metadata": {},
     "output_type": "execute_result"
    }
   ],
   "source": [
    "# link 컬럼 삭제\n",
    "df = df[df.columns.difference(['link'])]\n",
    "\n",
    "# 카테고리 그룹화 시행\n",
    "def preprocess_category(category):\n",
    "    if category == '해외축구' or category == '배구' or category == '농구' or category == '축구' or \\\n",
    "        category == 'e스포츠' or category == '야구' or category == '골프' or category == '해외야구':\n",
    "\n",
    "        return '스포츠'\n",
    "    \n",
    "    elif category == '예능' or  category == '방송' or category == '연예일반' or \\\n",
    "        category == '드라마' or category == '연예가화제' or category == '가요음악' or\\\n",
    "            category == '해외연예':\n",
    "\n",
    "        return '연예'\n",
    "\n",
    "    elif category == '영화':\n",
    "\n",
    "        return '문화'\n",
    "\n",
    "    else:\n",
    "        return category\n",
    "\n",
    "df['category'] = df['category'].apply(preprocess_category)\n",
    "\n",
    "# title + 공백 + detail 컬럼 => td 컬럼 생성\n",
    "df['td'] = df['title'] + ' ' + df['detail']\n",
    "\n",
    "df['category'].value_counts()"
   ]
  },
  {
   "cell_type": "code",
   "execution_count": 1,
   "metadata": {},
   "outputs": [],
   "source": [
    "\n"
   ]
  }
 ],
 "metadata": {
  "interpreter": {
   "hash": "3d2ea55752123de9770d1ec1d1a38882bb653c4164016a058c5f0d6162667bc7"
  },
  "kernelspec": {
   "display_name": "Python 3.7.11 ('pythonV3.7')",
   "language": "python",
   "name": "python3"
  },
  "language_info": {
   "codemirror_mode": {
    "name": "ipython",
    "version": 3
   },
   "file_extension": ".py",
   "mimetype": "text/x-python",
   "name": "python",
   "nbconvert_exporter": "python",
   "pygments_lexer": "ipython3",
   "version": "3.9.7"
  },
  "orig_nbformat": 4
 },
 "nbformat": 4,
 "nbformat_minor": 2
}
